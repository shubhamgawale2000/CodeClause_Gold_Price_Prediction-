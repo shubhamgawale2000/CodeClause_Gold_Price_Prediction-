{
 "cells": [
  {
   "cell_type": "markdown",
   "id": "6aefe6d5",
   "metadata": {},
   "source": [
    "# Task2 :Gold_Price_Prediction\n",
    " \n",
    "## Data Science Internship "
   ]
  },
  {
   "cell_type": "markdown",
   "id": "8ec53d93",
   "metadata": {},
   "source": [
    "## Import Libraries"
   ]
  },
  {
   "cell_type": "code",
   "execution_count": null,
   "id": "7c6ff6f0",
   "metadata": {},
   "outputs": [],
   "source": [
    "import numpy as np\n",
    "import pandas as pd\n",
    "import matplotlib.pyplot as plt\n",
    "import seaborn as sns\n",
    "from sklearn.model_selection import train_test_split\n",
    "from sklearn.ensemble import RandomForestRegressor\n",
    "from sklearn import metrics"
   ]
  },
  {
   "cell_type": "markdown",
   "id": "9a56d88f",
   "metadata": {},
   "source": [
    "## Data collection and Libraries"
   ]
  },
  {
   "cell_type": "code",
   "execution_count": 7,
   "id": "f7e7693f",
   "metadata": {},
   "outputs": [
    {
     "data": {
      "text/html": [
       "<div>\n",
       "<style scoped>\n",
       "    .dataframe tbody tr th:only-of-type {\n",
       "        vertical-align: middle;\n",
       "    }\n",
       "\n",
       "    .dataframe tbody tr th {\n",
       "        vertical-align: top;\n",
       "    }\n",
       "\n",
       "    .dataframe thead th {\n",
       "        text-align: right;\n",
       "    }\n",
       "</style>\n",
       "<table border=\"1\" class=\"dataframe\">\n",
       "  <thead>\n",
       "    <tr style=\"text-align: right;\">\n",
       "      <th></th>\n",
       "      <th>Date</th>\n",
       "      <th>SPX</th>\n",
       "      <th>GLD</th>\n",
       "      <th>USO</th>\n",
       "      <th>SLV</th>\n",
       "      <th>EUR/USD</th>\n",
       "    </tr>\n",
       "  </thead>\n",
       "  <tbody>\n",
       "    <tr>\n",
       "      <th>0</th>\n",
       "      <td>01-02-2008</td>\n",
       "      <td>1447.160034</td>\n",
       "      <td>84.860001</td>\n",
       "      <td>78.470001</td>\n",
       "      <td>15.1800</td>\n",
       "      <td>1.471692</td>\n",
       "    </tr>\n",
       "    <tr>\n",
       "      <th>1</th>\n",
       "      <td>01-03-2008</td>\n",
       "      <td>1447.160034</td>\n",
       "      <td>85.570000</td>\n",
       "      <td>78.370003</td>\n",
       "      <td>15.2850</td>\n",
       "      <td>1.474491</td>\n",
       "    </tr>\n",
       "    <tr>\n",
       "      <th>2</th>\n",
       "      <td>01-04-2008</td>\n",
       "      <td>1411.630005</td>\n",
       "      <td>85.129997</td>\n",
       "      <td>77.309998</td>\n",
       "      <td>15.1670</td>\n",
       "      <td>1.475492</td>\n",
       "    </tr>\n",
       "    <tr>\n",
       "      <th>3</th>\n",
       "      <td>01-07-2008</td>\n",
       "      <td>1416.180054</td>\n",
       "      <td>84.769997</td>\n",
       "      <td>75.500000</td>\n",
       "      <td>15.0530</td>\n",
       "      <td>1.468299</td>\n",
       "    </tr>\n",
       "    <tr>\n",
       "      <th>4</th>\n",
       "      <td>01-08-2008</td>\n",
       "      <td>1390.189941</td>\n",
       "      <td>86.779999</td>\n",
       "      <td>76.059998</td>\n",
       "      <td>15.5900</td>\n",
       "      <td>1.557099</td>\n",
       "    </tr>\n",
       "    <tr>\n",
       "      <th>...</th>\n",
       "      <td>...</td>\n",
       "      <td>...</td>\n",
       "      <td>...</td>\n",
       "      <td>...</td>\n",
       "      <td>...</td>\n",
       "      <td>...</td>\n",
       "    </tr>\n",
       "    <tr>\n",
       "      <th>2285</th>\n",
       "      <td>05-08-2018</td>\n",
       "      <td>2671.919922</td>\n",
       "      <td>124.589996</td>\n",
       "      <td>14.060000</td>\n",
       "      <td>15.5100</td>\n",
       "      <td>1.186789</td>\n",
       "    </tr>\n",
       "    <tr>\n",
       "      <th>2286</th>\n",
       "      <td>05-09-2018</td>\n",
       "      <td>2697.790039</td>\n",
       "      <td>124.330002</td>\n",
       "      <td>14.370000</td>\n",
       "      <td>15.5300</td>\n",
       "      <td>1.184722</td>\n",
       "    </tr>\n",
       "    <tr>\n",
       "      <th>2287</th>\n",
       "      <td>05-10-2018</td>\n",
       "      <td>2723.070068</td>\n",
       "      <td>125.180000</td>\n",
       "      <td>14.410000</td>\n",
       "      <td>15.7400</td>\n",
       "      <td>1.191753</td>\n",
       "    </tr>\n",
       "    <tr>\n",
       "      <th>2288</th>\n",
       "      <td>5/14/2018</td>\n",
       "      <td>2730.129883</td>\n",
       "      <td>124.489998</td>\n",
       "      <td>14.380000</td>\n",
       "      <td>15.5600</td>\n",
       "      <td>1.193118</td>\n",
       "    </tr>\n",
       "    <tr>\n",
       "      <th>2289</th>\n",
       "      <td>5/16/2018</td>\n",
       "      <td>2725.780029</td>\n",
       "      <td>122.543800</td>\n",
       "      <td>14.405800</td>\n",
       "      <td>15.4542</td>\n",
       "      <td>1.182033</td>\n",
       "    </tr>\n",
       "  </tbody>\n",
       "</table>\n",
       "<p>2290 rows × 6 columns</p>\n",
       "</div>"
      ],
      "text/plain": [
       "            Date          SPX         GLD        USO      SLV   EUR/USD\n",
       "0     01-02-2008  1447.160034   84.860001  78.470001  15.1800  1.471692\n",
       "1     01-03-2008  1447.160034   85.570000  78.370003  15.2850  1.474491\n",
       "2     01-04-2008  1411.630005   85.129997  77.309998  15.1670  1.475492\n",
       "3     01-07-2008  1416.180054   84.769997  75.500000  15.0530  1.468299\n",
       "4     01-08-2008  1390.189941   86.779999  76.059998  15.5900  1.557099\n",
       "...          ...          ...         ...        ...      ...       ...\n",
       "2285  05-08-2018  2671.919922  124.589996  14.060000  15.5100  1.186789\n",
       "2286  05-09-2018  2697.790039  124.330002  14.370000  15.5300  1.184722\n",
       "2287  05-10-2018  2723.070068  125.180000  14.410000  15.7400  1.191753\n",
       "2288   5/14/2018  2730.129883  124.489998  14.380000  15.5600  1.193118\n",
       "2289   5/16/2018  2725.780029  122.543800  14.405800  15.4542  1.182033\n",
       "\n",
       "[2290 rows x 6 columns]"
      ]
     },
     "execution_count": 7,
     "metadata": {},
     "output_type": "execute_result"
    }
   ],
   "source": [
    "# loading the csv data to a Pandas DataFrame\n",
    "gold_data =pd.read_csv(r\"C:\\Users\\shivu\\Desktop\\gold price.csv\")\n",
    "gold_data"
   ]
  },
  {
   "cell_type": "code",
   "execution_count": 8,
   "id": "ba577881",
   "metadata": {},
   "outputs": [
    {
     "data": {
      "text/html": [
       "<div>\n",
       "<style scoped>\n",
       "    .dataframe tbody tr th:only-of-type {\n",
       "        vertical-align: middle;\n",
       "    }\n",
       "\n",
       "    .dataframe tbody tr th {\n",
       "        vertical-align: top;\n",
       "    }\n",
       "\n",
       "    .dataframe thead th {\n",
       "        text-align: right;\n",
       "    }\n",
       "</style>\n",
       "<table border=\"1\" class=\"dataframe\">\n",
       "  <thead>\n",
       "    <tr style=\"text-align: right;\">\n",
       "      <th></th>\n",
       "      <th>Date</th>\n",
       "      <th>SPX</th>\n",
       "      <th>GLD</th>\n",
       "      <th>USO</th>\n",
       "      <th>SLV</th>\n",
       "      <th>EUR/USD</th>\n",
       "    </tr>\n",
       "  </thead>\n",
       "  <tbody>\n",
       "    <tr>\n",
       "      <th>0</th>\n",
       "      <td>01-02-2008</td>\n",
       "      <td>1447.160034</td>\n",
       "      <td>84.860001</td>\n",
       "      <td>78.470001</td>\n",
       "      <td>15.180</td>\n",
       "      <td>1.471692</td>\n",
       "    </tr>\n",
       "    <tr>\n",
       "      <th>1</th>\n",
       "      <td>01-03-2008</td>\n",
       "      <td>1447.160034</td>\n",
       "      <td>85.570000</td>\n",
       "      <td>78.370003</td>\n",
       "      <td>15.285</td>\n",
       "      <td>1.474491</td>\n",
       "    </tr>\n",
       "    <tr>\n",
       "      <th>2</th>\n",
       "      <td>01-04-2008</td>\n",
       "      <td>1411.630005</td>\n",
       "      <td>85.129997</td>\n",
       "      <td>77.309998</td>\n",
       "      <td>15.167</td>\n",
       "      <td>1.475492</td>\n",
       "    </tr>\n",
       "    <tr>\n",
       "      <th>3</th>\n",
       "      <td>01-07-2008</td>\n",
       "      <td>1416.180054</td>\n",
       "      <td>84.769997</td>\n",
       "      <td>75.500000</td>\n",
       "      <td>15.053</td>\n",
       "      <td>1.468299</td>\n",
       "    </tr>\n",
       "    <tr>\n",
       "      <th>4</th>\n",
       "      <td>01-08-2008</td>\n",
       "      <td>1390.189941</td>\n",
       "      <td>86.779999</td>\n",
       "      <td>76.059998</td>\n",
       "      <td>15.590</td>\n",
       "      <td>1.557099</td>\n",
       "    </tr>\n",
       "  </tbody>\n",
       "</table>\n",
       "</div>"
      ],
      "text/plain": [
       "         Date          SPX        GLD        USO     SLV   EUR/USD\n",
       "0  01-02-2008  1447.160034  84.860001  78.470001  15.180  1.471692\n",
       "1  01-03-2008  1447.160034  85.570000  78.370003  15.285  1.474491\n",
       "2  01-04-2008  1411.630005  85.129997  77.309998  15.167  1.475492\n",
       "3  01-07-2008  1416.180054  84.769997  75.500000  15.053  1.468299\n",
       "4  01-08-2008  1390.189941  86.779999  76.059998  15.590  1.557099"
      ]
     },
     "execution_count": 8,
     "metadata": {},
     "output_type": "execute_result"
    }
   ],
   "source": [
    "# print first 5 rows in the dataframe\n",
    "gold_data.head()"
   ]
  },
  {
   "cell_type": "code",
   "execution_count": 9,
   "id": "6fde3497",
   "metadata": {},
   "outputs": [
    {
     "data": {
      "text/plain": [
       "(2290, 6)"
      ]
     },
     "execution_count": 9,
     "metadata": {},
     "output_type": "execute_result"
    }
   ],
   "source": [
    "# number of rows and columns\n",
    "gold_data.shape"
   ]
  },
  {
   "cell_type": "code",
   "execution_count": 10,
   "id": "921d2b5b",
   "metadata": {},
   "outputs": [
    {
     "name": "stdout",
     "output_type": "stream",
     "text": [
      "<class 'pandas.core.frame.DataFrame'>\n",
      "RangeIndex: 2290 entries, 0 to 2289\n",
      "Data columns (total 6 columns):\n",
      " #   Column   Non-Null Count  Dtype  \n",
      "---  ------   --------------  -----  \n",
      " 0   Date     2290 non-null   object \n",
      " 1   SPX      2290 non-null   float64\n",
      " 2   GLD      2290 non-null   float64\n",
      " 3   USO      2290 non-null   float64\n",
      " 4   SLV      2290 non-null   float64\n",
      " 5   EUR/USD  2290 non-null   float64\n",
      "dtypes: float64(5), object(1)\n",
      "memory usage: 107.5+ KB\n"
     ]
    }
   ],
   "source": [
    "# getting some basic informations about the data\n",
    "gold_data.info()\n"
   ]
  },
  {
   "cell_type": "code",
   "execution_count": 13,
   "id": "df3cc0a0",
   "metadata": {},
   "outputs": [
    {
     "data": {
      "text/plain": [
       "Date       0\n",
       "SPX        0\n",
       "GLD        0\n",
       "USO        0\n",
       "SLV        0\n",
       "EUR/USD    0\n",
       "dtype: int64"
      ]
     },
     "execution_count": 13,
     "metadata": {},
     "output_type": "execute_result"
    }
   ],
   "source": [
    "# checking the number of missing values\n",
    "gold_data.isnull().sum()\n"
   ]
  },
  {
   "cell_type": "code",
   "execution_count": 14,
   "id": "5ae7750c",
   "metadata": {},
   "outputs": [
    {
     "data": {
      "text/html": [
       "<div>\n",
       "<style scoped>\n",
       "    .dataframe tbody tr th:only-of-type {\n",
       "        vertical-align: middle;\n",
       "    }\n",
       "\n",
       "    .dataframe tbody tr th {\n",
       "        vertical-align: top;\n",
       "    }\n",
       "\n",
       "    .dataframe thead th {\n",
       "        text-align: right;\n",
       "    }\n",
       "</style>\n",
       "<table border=\"1\" class=\"dataframe\">\n",
       "  <thead>\n",
       "    <tr style=\"text-align: right;\">\n",
       "      <th></th>\n",
       "      <th>SPX</th>\n",
       "      <th>GLD</th>\n",
       "      <th>USO</th>\n",
       "      <th>SLV</th>\n",
       "      <th>EUR/USD</th>\n",
       "    </tr>\n",
       "  </thead>\n",
       "  <tbody>\n",
       "    <tr>\n",
       "      <th>count</th>\n",
       "      <td>2290.000000</td>\n",
       "      <td>2290.000000</td>\n",
       "      <td>2290.000000</td>\n",
       "      <td>2290.000000</td>\n",
       "      <td>2290.000000</td>\n",
       "    </tr>\n",
       "    <tr>\n",
       "      <th>mean</th>\n",
       "      <td>1654.315776</td>\n",
       "      <td>122.732875</td>\n",
       "      <td>31.842221</td>\n",
       "      <td>20.084997</td>\n",
       "      <td>1.283653</td>\n",
       "    </tr>\n",
       "    <tr>\n",
       "      <th>std</th>\n",
       "      <td>519.111540</td>\n",
       "      <td>23.283346</td>\n",
       "      <td>19.523517</td>\n",
       "      <td>7.092566</td>\n",
       "      <td>0.131547</td>\n",
       "    </tr>\n",
       "    <tr>\n",
       "      <th>min</th>\n",
       "      <td>676.530029</td>\n",
       "      <td>70.000000</td>\n",
       "      <td>7.960000</td>\n",
       "      <td>8.850000</td>\n",
       "      <td>1.039047</td>\n",
       "    </tr>\n",
       "    <tr>\n",
       "      <th>25%</th>\n",
       "      <td>1239.874969</td>\n",
       "      <td>109.725000</td>\n",
       "      <td>14.380000</td>\n",
       "      <td>15.570000</td>\n",
       "      <td>1.171313</td>\n",
       "    </tr>\n",
       "    <tr>\n",
       "      <th>50%</th>\n",
       "      <td>1551.434998</td>\n",
       "      <td>120.580002</td>\n",
       "      <td>33.869999</td>\n",
       "      <td>17.268500</td>\n",
       "      <td>1.303297</td>\n",
       "    </tr>\n",
       "    <tr>\n",
       "      <th>75%</th>\n",
       "      <td>2073.010070</td>\n",
       "      <td>132.840004</td>\n",
       "      <td>37.827501</td>\n",
       "      <td>22.882500</td>\n",
       "      <td>1.369971</td>\n",
       "    </tr>\n",
       "    <tr>\n",
       "      <th>max</th>\n",
       "      <td>2872.870117</td>\n",
       "      <td>184.589996</td>\n",
       "      <td>117.480003</td>\n",
       "      <td>47.259998</td>\n",
       "      <td>1.598798</td>\n",
       "    </tr>\n",
       "  </tbody>\n",
       "</table>\n",
       "</div>"
      ],
      "text/plain": [
       "               SPX          GLD          USO          SLV      EUR/USD\n",
       "count  2290.000000  2290.000000  2290.000000  2290.000000  2290.000000\n",
       "mean   1654.315776   122.732875    31.842221    20.084997     1.283653\n",
       "std     519.111540    23.283346    19.523517     7.092566     0.131547\n",
       "min     676.530029    70.000000     7.960000     8.850000     1.039047\n",
       "25%    1239.874969   109.725000    14.380000    15.570000     1.171313\n",
       "50%    1551.434998   120.580002    33.869999    17.268500     1.303297\n",
       "75%    2073.010070   132.840004    37.827501    22.882500     1.369971\n",
       "max    2872.870117   184.589996   117.480003    47.259998     1.598798"
      ]
     },
     "execution_count": 14,
     "metadata": {},
     "output_type": "execute_result"
    }
   ],
   "source": [
    "# getting the statistical measures of the data\n",
    "gold_data.describe()"
   ]
  },
  {
   "cell_type": "markdown",
   "id": "bff551e5",
   "metadata": {},
   "source": [
    "## Correlation:\n",
    "\n",
    "### 1.Positive Correlation\n",
    "### 2.Negative Correlation"
   ]
  },
  {
   "cell_type": "code",
   "execution_count": 15,
   "id": "765f87cf",
   "metadata": {},
   "outputs": [],
   "source": [
    "correlation = gold_data.corr()"
   ]
  },
  {
   "cell_type": "code",
   "execution_count": 16,
   "id": "14666fe4",
   "metadata": {},
   "outputs": [
    {
     "data": {
      "text/plain": [
       "<AxesSubplot:>"
      ]
     },
     "execution_count": 16,
     "metadata": {},
     "output_type": "execute_result"
    },
    {
     "data": {
      "image/png": "[encoded data removed]",
      "text/plain": [
       "<Figure size 576x576 with 2 Axes>"
      ]
     },
     "metadata": {
      "needs_background": "light"
     },
     "output_type": "display_data"
    }
   ],
   "source": [
    "# constructing a heatmap to understand the correlatiom\n",
    "plt.figure(figsize = (8,8))\n",
    "sns.heatmap(correlation, cbar=True, square=True, fmt='.1f',annot=True, annot_kws={'size':8}, cmap='Blues')"
   ]
  },
  {
   "cell_type": "code",
   "execution_count": 17,
   "id": "f50c82f0",
   "metadata": {},
   "outputs": [
    {
     "name": "stdout",
     "output_type": "stream",
     "text": [
      "SPX        0.049345\n",
      "GLD        1.000000\n",
      "USO       -0.186360\n",
      "SLV        0.866632\n",
      "EUR/USD   -0.024375\n",
      "Name: GLD, dtype: float64\n"
     ]
    }
   ],
   "source": [
    "# correlation values of GLD\n",
    "print(correlation['GLD'])\n"
   ]
  },
  {
   "cell_type": "code",
   "execution_count": 19,
   "id": "a5f77b9c",
   "metadata": {},
   "outputs": [
    {
     "name": "stderr",
     "output_type": "stream",
     "text": [
      "C:\\Users\\shivu\\anaconda\\lib\\site-packages\\seaborn\\distributions.py:2619: FutureWarning: `distplot` is a deprecated function and will be removed in a future version. Please adapt your code to use either `displot` (a figure-level function with similar flexibility) or `histplot` (an axes-level function for histograms).\n",
      "  warnings.warn(msg, FutureWarning)\n"
     ]
    },
    {
     "data": {
      "text/plain": [
       "<AxesSubplot:xlabel='GLD', ylabel='Density'>"
      ]
     },
     "execution_count": 19,
     "metadata": {},
     "output_type": "execute_result"
    },
    {
     "data": {
      "image/png": "[encoded data removed]",
      "text/plain": [
       "<Figure size 432x288 with 1 Axes>"
      ]
     },
     "metadata": {
      "needs_background": "light"
     },
     "output_type": "display_data"
    }
   ],
   "source": [
    "# checking the distribution of the GLD Price\n",
    "sns.distplot(gold_data['GLD'],color='green')"
   ]
  },
  {
   "cell_type": "code",
   "execution_count": 21,
   "id": "4d714105",
   "metadata": {},
   "outputs": [],
   "source": [
    "X = gold_data.drop(['Date','GLD'],axis=1)\n",
    "Y = gold_data['GLD']"
   ]
  },
  {
   "cell_type": "code",
   "execution_count": 22,
   "id": "6e0e9c61",
   "metadata": {},
   "outputs": [
    {
     "name": "stdout",
     "output_type": "stream",
     "text": [
      "              SPX        USO      SLV   EUR/USD\n",
      "0     1447.160034  78.470001  15.1800  1.471692\n",
      "1     1447.160034  78.370003  15.2850  1.474491\n",
      "2     1411.630005  77.309998  15.1670  1.475492\n",
      "3     1416.180054  75.500000  15.0530  1.468299\n",
      "4     1390.189941  76.059998  15.5900  1.557099\n",
      "...           ...        ...      ...       ...\n",
      "2285  2671.919922  14.060000  15.5100  1.186789\n",
      "2286  2697.790039  14.370000  15.5300  1.184722\n",
      "2287  2723.070068  14.410000  15.7400  1.191753\n",
      "2288  2730.129883  14.380000  15.5600  1.193118\n",
      "2289  2725.780029  14.405800  15.4542  1.182033\n",
      "\n",
      "[2290 rows x 4 columns]\n"
     ]
    }
   ],
   "source": [
    "print(X)"
   ]
  },
  {
   "cell_type": "code",
   "execution_count": 23,
   "id": "05eb8e87",
   "metadata": {},
   "outputs": [
    {
     "name": "stdout",
     "output_type": "stream",
     "text": [
      "0        84.860001\n",
      "1        85.570000\n",
      "2        85.129997\n",
      "3        84.769997\n",
      "4        86.779999\n",
      "           ...    \n",
      "2285    124.589996\n",
      "2286    124.330002\n",
      "2287    125.180000\n",
      "2288    124.489998\n",
      "2289    122.543800\n",
      "Name: GLD, Length: 2290, dtype: float64\n"
     ]
    }
   ],
   "source": [
    "print(Y)"
   ]
  },
  {
   "cell_type": "markdown",
   "id": "b9099c0c",
   "metadata": {},
   "source": [
    "# Splitting into Training data and Test Data\n"
   ]
  },
  {
   "cell_type": "code",
   "execution_count": 24,
   "id": "9d3b0305",
   "metadata": {},
   "outputs": [],
   "source": [
    "X_train, X_test, Y_train, Y_test = train_test_split(X, Y, test_size = 0.2, random_state=2)"
   ]
  },
  {
   "cell_type": "code",
   "execution_count": 25,
   "id": "4cbf5c51",
   "metadata": {},
   "outputs": [],
   "source": [
    "regressor = RandomForestRegressor(n_estimators=100)"
   ]
  },
  {
   "cell_type": "code",
   "execution_count": 28,
   "id": "5db30b69",
   "metadata": {},
   "outputs": [
    {
     "data": {
      "text/plain": [
       "RandomForestRegressor()"
      ]
     },
     "execution_count": 28,
     "metadata": {},
     "output_type": "execute_result"
    }
   ],
   "source": [
    "# training the model\n",
    "regressor.fit(X_train,Y_train)"
   ]
  },
  {
   "cell_type": "code",
   "execution_count": 29,
   "id": "2d3a1d2a",
   "metadata": {},
   "outputs": [],
   "source": [
    "# prediction on Test Data\n",
    "test_data_prediction = regressor.predict(X_test)"
   ]
  },
  {
   "cell_type": "code",
   "execution_count": 30,
   "id": "540f789d",
   "metadata": {},
   "outputs": [
    {
     "name": "stdout",
     "output_type": "stream",
     "text": [
      "[168.70769972  82.22819973 115.95880019 127.62320077 120.52310133\n",
      " 154.75969738 150.1984982  126.1265998  117.5418987  126.04689991\n",
      " 116.60350095 171.91570113 141.75009828 167.82479836 115.20620011\n",
      " 117.68240043 138.17920334 170.32600104 159.16090265 159.44220021\n",
      " 154.98670037 124.9882002  175.84999995 156.81290269 125.23820043\n",
      "  93.7602997   78.01209987 120.40580006 119.20729989 167.49270017\n",
      "  88.17250064 125.32979979  91.1923009  117.70850028 120.97149914\n",
      " 136.21440105 115.61860097 114.87250074 146.46059969 107.12710144\n",
      " 103.84320257  87.06659786 126.50440059 117.88470018 154.4157988\n",
      " 119.72129996 108.32390012 108.12569817  93.17680074 127.03819816\n",
      "  75.06370031 113.69809931 121.17170011 111.3673991  118.91979867\n",
      " 120.88949923 160.5250005  168.29150133 147.06009707  85.71559825\n",
      "  94.1747001   86.78599876  90.55520016 118.90430064 126.47390075\n",
      " 127.70480059 170.42920006 122.21499913 117.260199    98.45440009\n",
      " 168.21710132 142.78549827 131.90230225 121.15220223 121.8596991\n",
      " 120.01170052 114.31370159 118.27380078 107.41170115 127.85990008\n",
      " 113.78839952 107.40469987 117.15120052 119.61439832  88.71070081\n",
      "  88.27979872 146.43930295 127.31849956 113.56999998 109.82429833\n",
      " 108.01699906  77.28299917 168.8492019  114.077899   121.46999942\n",
      " 128.12800217 155.0378981   91.7040995  135.65330124 158.92830349\n",
      " 125.5133006  125.40810063 130.56440187 114.78600121 119.71019992\n",
      "  92.10119967 110.25289878 168.74699959 156.11629991 114.28629969\n",
      " 106.54640104  79.61229956 113.28390015 125.84670076 107.23509877\n",
      " 119.44220086 155.97860281 159.42799889 120.20730002 134.27500328\n",
      " 101.30889966 117.68039797 119.26250029 112.87320055 102.83219943\n",
      " 160.20439742  98.94660057 147.77049841 125.72800109 168.99909898\n",
      " 125.93129853 127.19979818 127.46080158 113.79459942 112.80440047\n",
      " 123.44769921 102.06999913  89.1949     124.61589924 102.04159929\n",
      " 106.84889905 113.71080038 117.24400064  99.17609965 121.6299005\n",
      " 163.35059908  87.21549881 106.71119982 117.27920053 127.68490102\n",
      " 124.16870042  80.81259933 120.42150075 158.00319813  87.89509955\n",
      " 110.17419977 118.77939927 172.40569907 103.00569898 105.49880025\n",
      " 122.73210047 158.1982977   87.37319857  93.09480065 113.04720031\n",
      " 177.69119969 115.01429975 119.35080032  94.62300123 125.61109982\n",
      " 166.22940135 114.75020058 116.77680093  88.36379879 148.8523015\n",
      " 120.36939943  89.39539997 111.70159996 117.37790023 118.67900127\n",
      "  88.02909932  94.24940012 116.95220014 118.53060182 120.28690052\n",
      " 126.84379791 121.97089974 149.62620006 164.65990092 118.53389963\n",
      " 120.29590136 151.17450042 118.44379881 172.71089893 105.33269931\n",
      " 105.03860084 149.38490159 113.56650044 124.9267011  147.98679935\n",
      " 119.48470125 115.2189004  112.3128     113.38190205 141.07830145\n",
      " 117.87419787 102.92100035 115.90530133 103.16330199  98.6224004\n",
      " 117.26810089  90.61200018  91.45610041 153.42259865 102.74759973\n",
      " 154.48380073 114.35010161 138.33560118  90.16019791 115.46259943\n",
      " 115.00049979 122.97320004 121.88659996 165.57270137  92.94809963\n",
      " 135.08910097 121.29679968 120.73250056 104.53509999 141.73790319\n",
      " 121.82049923 116.59970031 113.38040056 127.33759699 122.68939948\n",
      " 125.87239941 121.2070005   86.90439918 132.27960194 144.4648024\n",
      "  92.71009968 157.86010048 158.83130318 126.54219958 164.3587994\n",
      " 108.86499973 109.93190094 103.60489821  94.06480077 127.96370268\n",
      " 107.12390044 161.77780052 121.60330055 131.99450038 130.58180178\n",
      " 161.11279918  90.25029838 175.280102   126.99480021 126.76999845\n",
      "  86.34299942 124.61649918 150.42699713  89.5610002  106.89309981\n",
      " 109.05369979  83.95239911 135.68179984 155.02220218 139.82550312\n",
      "  73.6053004  152.63350053 126.19150014 126.77190019 127.4425992\n",
      " 108.58629978 156.33709998 114.48330097 116.90590154 125.51959953\n",
      " 153.86090114 121.40330003 156.32639922  92.89520074 125.51910099\n",
      " 126.08920027  87.94530006  92.29749922 126.32939881 128.27560335\n",
      " 113.17220043 117.58779738 120.94030019 127.14229799 120.04150079\n",
      " 136.09070104  93.93759934 119.91510032 113.08020083  94.20339937\n",
      " 108.99249935  86.77579918 109.10869926  89.5545001   92.37830042\n",
      " 131.67390349 162.44530049  89.47559992 119.83740071 133.19420235\n",
      " 123.93350023 128.2187017  101.84239854  88.97959884 131.50580053\n",
      " 120.49560012 108.59770002 167.04690097 115.03550017  86.67569883\n",
      " 118.91410058  90.95119983 161.72930012 116.32950048 121.53150008\n",
      " 160.20189744 120.17729943 112.92279916 108.4259985  126.71930043\n",
      "  75.98669998 102.94569958 127.89920257 121.7743998   92.55340001\n",
      " 132.51660067 117.94930095 116.14609969 154.93960198 159.92840108\n",
      " 110.0433999  156.67789806 119.30840092 160.32950028 118.43490028\n",
      " 157.27470022 115.2055994  116.71080054 149.35149905 114.74550076\n",
      " 125.56409852 166.09999972 117.81780032 125.12689952 153.67860325\n",
      " 153.63470256 132.07610048 114.68730007 121.20980211 125.3458007\n",
      "  89.9017003  123.45929991 154.98500226 111.56090026 106.68919988\n",
      " 161.32290119 118.48809959 165.76680033 134.12490058 114.78189981\n",
      " 152.9886993  168.39499986 115.3105003  113.99810118 159.48979942\n",
      "  85.23259915 127.07460016 127.91370092 128.79850006 124.2235004\n",
      " 123.88230059  90.57100054 153.46509943  97.07479978 137.83729985\n",
      "  89.13159939 107.38699982 114.83860027 112.79910072 124.36429924\n",
      "  91.50909883 125.41220147 162.35069851 119.84709899 165.38280119\n",
      " 126.89259788 112.25120017 127.57749903  94.96889915  91.20359971\n",
      " 103.32199912 120.96240011  82.97269931 126.30789989 160.15450433\n",
      " 117.30670104 118.35679978 119.74779984 122.65459963 120.1088013\n",
      " 121.36490049 118.27920072 106.96180003 148.27110027 126.31159841\n",
      " 115.60360086  74.01370003 127.81180118 154.12980112 121.76219987\n",
      " 125.58580058  88.75340019 103.23069867 124.87960037 120.24850044\n",
      "  73.29240071 151.65799928 121.00590016 104.77319991  86.16699774\n",
      " 114.95439926 172.17629809 119.76250015 160.22179856 113.25779902\n",
      " 121.44050029 118.519601    95.92219988 118.65220016 126.05760057\n",
      " 118.6167995   95.89050055 153.66060143 122.03130006 147.38930052\n",
      " 159.66210195 113.70669986 122.54449927 149.397898   127.06950012\n",
      " 165.8711005  136.09820027 120.1432996  167.24619793 108.31169935\n",
      " 121.74929817 137.78880219 106.56719914]\n"
     ]
    }
   ],
   "source": [
    "print(test_data_prediction)"
   ]
  },
  {
   "cell_type": "code",
   "execution_count": 31,
   "id": "7828d5ae",
   "metadata": {},
   "outputs": [
    {
     "name": "stdout",
     "output_type": "stream",
     "text": [
      "R squared error :  0.9892589091415779\n"
     ]
    }
   ],
   "source": [
    "# R squared error\n",
    "error_score = metrics.r2_score(Y_test, test_data_prediction)\n",
    "print(\"R squared error : \", error_score)"
   ]
  },
  {
   "cell_type": "code",
   "execution_count": 32,
   "id": "e5fe3c04",
   "metadata": {},
   "outputs": [],
   "source": [
    "Y_test = list(Y_test)"
   ]
  },
  {
   "cell_type": "markdown",
   "id": "0d4c3d9f",
   "metadata": {},
   "source": [
    "# Compare the Actual Values and Predicted Values in a Plot"
   ]
  },
  {
   "cell_type": "code",
   "execution_count": 33,
   "id": "a3997752",
   "metadata": {},
   "outputs": [
    {
     "data": {
      "image/png": "[encoded data removed]",
      "text/plain": [
       "<Figure size 432x288 with 1 Axes>"
      ]
     },
     "metadata": {
      "needs_background": "light"
     },
     "output_type": "display_data"
    }
   ],
   "source": [
    "plt.plot(Y_test, color='blue', label = 'Actual Value')\n",
    "plt.plot(test_data_prediction, color='green', label='Predicted Value')\n",
    "plt.title('Actual Price vs Predicted Price')\n",
    "plt.xlabel('Number of values')\n",
    "plt.ylabel('GLD Price')\n",
    "plt.legend()\n",
    "plt.show()\n"
   ]
  },
  {
   "cell_type": "code",
   "execution_count": null,
   "id": "bd622140",
   "metadata": {},
   "outputs": [],
   "source": []
  }
 ],
 "metadata": {
  "kernelspec": {
   "display_name": "Python 3 (ipykernel)",
   "language": "python",
   "name": "python3"
  },
  "language_info": {
   "codemirror_mode": {
    "name": "ipython",
    "version": 3
   },
   "file_extension": ".py",
   "mimetype": "text/x-python",
   "name": "python",
   "nbconvert_exporter": "python",
   "pygments_lexer": "ipython3",
   "version": "3.9.12"
  }
 },
 "nbformat": 4,
 "nbformat_minor": 5
}
